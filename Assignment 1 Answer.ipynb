{
 "cells": [
  {
   "cell_type": "markdown",
   "metadata": {},
   "source": [
    "# Question 1"
   ]
  },
  {
   "cell_type": "markdown",
   "metadata": {},
   "source": [
    "Option (B): RAINBOW"
   ]
  },
  {
   "cell_type": "markdown",
   "metadata": {},
   "source": [
    "Program"
   ]
  },
  {
   "cell_type": "code",
   "execution_count": 6,
   "metadata": {},
   "outputs": [
    {
     "name": "stdout",
     "output_type": "stream",
     "text": [
      "Given the following jumbled word, OBANWRI \n",
      "\n",
      "Guess the correct English word from the options given bellow! \n",
      "A. RANIBOW \n",
      "B. RAINBOW \n",
      "C. BOWRANI \n",
      "D. ROBWANI\n",
      "Enter any one of the options:(in caps only)\n",
      "RAINBOW\n",
      "RAINBOW\n"
     ]
    }
   ],
   "source": [
    "print(\"Given the following jumbled word, OBANWRI \\n\\nGuess the correct English word from the options given bellow! \\nA. RANIBOW \\nB. RAINBOW \\nC. BOWRANI \\nD. ROBWANI\")\n",
    "guessed_word = input(\"Enter any one of the options:(in caps only)\\n\")\n",
    "answer = \"RAINBOW\"\n",
    "jumbled_word = \"OBANWRI\"\n",
    "if guessed_word == answer:\n",
    "    print(answer)\n",
    "else:\n",
    "    print(\"Wrong answer\")"
   ]
  },
  {
   "cell_type": "markdown",
   "metadata": {},
   "source": [
    "# Question 2"
   ]
  },
  {
   "cell_type": "code",
   "execution_count": 7,
   "metadata": {},
   "outputs": [
    {
     "name": "stdout",
     "output_type": "stream",
     "text": [
      "\"LETS UPGRADE\"\n"
     ]
    }
   ],
   "source": [
    "print('\"LETS UPGRADE\"')"
   ]
  },
  {
   "cell_type": "markdown",
   "metadata": {},
   "source": [
    "# Question 3"
   ]
  },
  {
   "cell_type": "code",
   "execution_count": 11,
   "metadata": {},
   "outputs": [
    {
     "name": "stdout",
     "output_type": "stream",
     "text": [
      "19\n",
      "95\n",
      "Profit\n"
     ]
    }
   ],
   "source": [
    "cost_price = int(input())\n",
    "selling_price = int(input())\n",
    "if cost_price > selling_price:\n",
    "    print(\"Loss\")\n",
    "elif cost_price < selling_price:\n",
    "    print(\"Profit\")\n",
    "else:\n",
    "    print(\"Neither\")"
   ]
  },
  {
   "cell_type": "markdown",
   "metadata": {},
   "source": [
    "# Question 4"
   ]
  },
  {
   "cell_type": "code",
   "execution_count": 12,
   "metadata": {},
   "outputs": [
    {
     "name": "stdout",
     "output_type": "stream",
     "text": [
      "20\n",
      "1600\n"
     ]
    }
   ],
   "source": [
    "amt_in_rs = int(input())\n",
    "amt_in_euro = amt_in_rs * 80\n",
    "print(amt_in_euro)"
   ]
  },
  {
   "cell_type": "code",
   "execution_count": null,
   "metadata": {},
   "outputs": [],
   "source": []
  }
 ],
 "metadata": {
  "kernelspec": {
   "display_name": "Python 3",
   "language": "python",
   "name": "python3"
  },
  "language_info": {
   "codemirror_mode": {
    "name": "ipython",
    "version": 3
   },
   "file_extension": ".py",
   "mimetype": "text/x-python",
   "name": "python",
   "nbconvert_exporter": "python",
   "pygments_lexer": "ipython3",
   "version": "3.8.3"
  }
 },
 "nbformat": 4,
 "nbformat_minor": 4
}
